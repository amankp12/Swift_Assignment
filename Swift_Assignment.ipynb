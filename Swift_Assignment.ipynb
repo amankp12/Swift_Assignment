{
 "cells": [
  {
   "cell_type": "code",
   "execution_count": null,
   "id": "84cc8287",
   "metadata": {},
   "outputs": [],
   "source": [
    "#Load Data From JSon Files"
   ]
  },
  {
   "cell_type": "code",
   "execution_count": 72,
   "id": "5d3f7316",
   "metadata": {},
   "outputs": [],
   "source": [
    "import json\n",
    "import pandas as pd\n",
    "from datetime import datetime, timedelta\n",
    "import pytz"
   ]
  },
  {
   "cell_type": "code",
   "execution_count": 73,
   "id": "3ad4940e",
   "metadata": {},
   "outputs": [],
   "source": [
    "file_path = 'C:\\\\Users\\\\user\\\\Downloads\\\\Dataset.json'\n",
    "with open(file_path, 'r') as file:\n",
    "    data = json.load(file)"
   ]
  },
  {
   "cell_type": "code",
   "execution_count": 74,
   "id": "73b99d5d",
   "metadata": {},
   "outputs": [],
   "source": [
    "flattened_data = []\n",
    "\n",
    "for item in data:\n",
    "    tracking_number = item['trackDetails'][0]['trackingNumber']\n",
    "    payments = item['trackDetails'][0].get('payments', [])\n",
    "    payment_type = 'COD' if any(payment.get('type') == 'COD' for payment in payments) else 'Prepaid'\n",
    "\n",
    "    # Extract date and time information\n",
    "    pickup_datetime = item['trackDetails'][0]['datesOrTimes'][2]['dateOrTimestamp']\n",
    "    delivery_datetime = item['trackDetails'][0]['datesOrTimes'][0]['dateOrTimestamp']\n",
    "\n",
    "    # Convert to datetime objects\n",
    "    pickup_datetime = datetime.fromisoformat(pickup_datetime).astimezone(pytz.timezone('Asia/Kolkata'))\n",
    "    delivery_datetime = datetime.fromisoformat(delivery_datetime).astimezone(pytz.timezone('Asia/Kolkata'))\n",
    "\n",
    "    # Calculate days taken for delivery\n",
    "    days_taken = (delivery_datetime - pickup_datetime).days\n",
    "\n",
    "    # Calculate number of delivery attempts\n",
    "    out_for_delivery_count = len([event for event in item['trackDetails'][0]['events'] if event['eventType'] == 'OD'])\n",
    "    delivered_count = len([event for event in item['trackDetails'][0]['events'] if event['eventType'] == 'DL'])\n",
    "    delivery_attempts = out_for_delivery_count + delivered_count\n",
    "\n",
    "    # Extract other necessary information\n",
    "    shipment_weight = item['trackDetails'][0]['shipmentWeight']['value']\n",
    "\n",
    "    # Function to get postal code from address data\n",
    "    def get_postal_code(address_data):\n",
    "        postal_code_keys = ['postalCode', 'postalCodeExtension']\n",
    "\n",
    "        for key in postal_code_keys:\n",
    "            if key in address_data:\n",
    "                return address_data[key]\n",
    "\n",
    "        return ''\n",
    "\n",
    "    # Extract pickup address information\n",
    "    pickup_address = item['trackDetails'][0].get('shipperAddress', {})\n",
    "    pickup_pincode = get_postal_code(pickup_address)\n",
    "    pickup_city = pickup_address.get('city', '')\n",
    "    pickup_state = pickup_address.get('stateOrProvinceCode', '')\n",
    "\n",
    "    # Extract drop address information\n",
    "    drop_address = item['trackDetails'][0].get('destinationAddress', {})\n",
    "    drop_pincode = get_postal_code(drop_address)\n",
    "    drop_city = drop_address.get('city', '')\n",
    "    drop_state = drop_address.get('stateOrProvinceCode', '')\n",
    "\n",
    "    # Append the flattened data\n",
    "    flattened_data.append({\n",
    "        'Tracking number': tracking_number,\n",
    "        'Payment type': payment_type,\n",
    "        'Pickup Date Time (IST)': pickup_datetime,\n",
    "        'Delivery Date Time (IST)': delivery_datetime,\n",
    "        'Days taken for delivery': days_taken,\n",
    "        'Shipment weight': shipment_weight,\n",
    "        'Pickup Pincode': pickup_pincode,\n",
    "        'Pickup City': pickup_city,\n",
    "        'Pickup State': pickup_state,\n",
    "        'Drop Pincode': drop_pincode,\n",
    "        'Drop City': drop_city,\n",
    "        'Drop State': drop_state,\n",
    "        'Number of delivery attempts': delivery_attempts\n",
    "    })"
   ]
  },
  {
   "cell_type": "code",
   "execution_count": 75,
   "id": "de6e8b2a",
   "metadata": {},
   "outputs": [],
   "source": [
    "# Output as CSV\n",
    "output_csv_path = 'tracking_summary.csv'\n",
    "df = pd.DataFrame(flattened_data)\n",
    "df.to_csv(output_csv_path, index=False)"
   ]
  },
  {
   "cell_type": "code",
   "execution_count": 77,
   "id": "6912c099",
   "metadata": {},
   "outputs": [],
   "source": [
    "# Output Summary Statistics as a CSV\n",
    "summary_statistics = {\n",
    "    'Mean days taken for delivery': df['Days taken for delivery'].mean(),\n",
    "    'Median days taken for delivery': df['Days taken for delivery'].median(),\n",
    "    'Mode days taken for delivery': df['Days taken for delivery'].mode().iloc[0],\n",
    "    'Mean number of delivery attempts': df['Number of delivery attempts'].mean(),\n",
    "    'Median number of delivery attempts': df['Number of delivery attempts'].median(),\n",
    "    'Mode number of delivery attempts': df['Number of delivery attempts'].mode().iloc[0],\n",
    "}\n",
    "\n",
    "summary_statistics_df = pd.DataFrame(list(summary_statistics.items()), columns=['Metric', 'Value'])\n",
    "summary_statistics_df.to_csv('summary_statistics.csv', index=False)"
   ]
  }
 ],
 "metadata": {
  "kernelspec": {
   "display_name": "Python 3 (ipykernel)",
   "language": "python",
   "name": "python3"
  },
  "language_info": {
   "codemirror_mode": {
    "name": "ipython",
    "version": 3
   },
   "file_extension": ".py",
   "mimetype": "text/x-python",
   "name": "python",
   "nbconvert_exporter": "python",
   "pygments_lexer": "ipython3",
   "version": "3.9.13"
  }
 },
 "nbformat": 4,
 "nbformat_minor": 5
}
